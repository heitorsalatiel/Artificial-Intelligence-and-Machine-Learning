{
 "cells": [
  {
   "cell_type": "markdown",
   "metadata": {},
   "source": [
    "# Trabalho Final de Introdução a Linguagens Estatísicas\n",
    "\n",
    "**Aluno**: Heitor Vinicius de Paula Salatiel\n",
    "\n",
    "**Matrícula**: 1185913\n",
    "\n",
    "\n",
    "## 02 - Tratamento da base *linguas.csv*\n",
    "\n",
    "Essa base descreve as diversas línguas dominadas por um determindo funcionário, identificado pela chave **perfil_id**, descrevendo o nome da língua (coluna **name**), e o nível de proficiência em cada uma delas (coluna **proficiency**). Sendo assim, há mais de um registro para o mesmo perfil no caso do funcionário falar várias línguas.\n",
    "\n",
    "Apenas 90 dos 111 funcinários constam nessa base."
   ]
  },
  {
   "cell_type": "code",
   "execution_count": 1,
   "metadata": {},
   "outputs": [
    {
     "name": "stdout",
     "output_type": "stream",
     "text": [
      "Nº de registros: 211\n",
      "Nº de valores únicos de perfil_id: 90\n",
      "Nº de valores únicos de name: 21\n",
      "Nº de valores únicos de proficiency: 5\n",
      "Valores faltantes em perfil_id: 0\n",
      "Valores faltantes em name: 0\n",
      "Valores faltantes em proficiency: 23\n",
      "\n",
      "Valores de name: ['Idioma\\nEspanhol' 'Idioma\\nInglês' 'Idioma\\nPortuguês'\n",
      " 'Idioma\\nItaliano' 'Idioma\\nEnglish' 'Idioma\\nPortuguese'\n",
      " 'Idioma\\nSpanish' 'Idioma\\nFrancês' 'Idioma\\nFrench' 'Idioma\\nÁrabe'\n",
      " 'Idioma\\nHolandês' 'Idioma\\nInglês - Certificação TOEIC' 'Idioma\\nAlemão'\n",
      " 'Idioma\\nJaponês' 'Idioma\\nLIBRAS'\n",
      " 'Idioma\\nInglês - Intermediário - em curso' 'Idioma\\nItalian'\n",
      " 'Idioma\\nAnglais' 'Idioma\\nFrançais' 'Idioma\\nPortugais'\n",
      " 'Idioma\\nInglês médio (1100-1500)']\n",
      "\n",
      "Valores de proficiency: ['Nível avançado' 'Fluente ou nativo' nan 'Nível básico a intermediário'\n",
      " 'Nível básico' 'Nível intermediário']\n"
     ]
    }
   ],
   "source": [
    "import numpy as np\n",
    "import pandas as pd\n",
    "\n",
    "pd.set_option('display.max_columns', None)\n",
    "pd.set_option('display.max_rows', None)\n",
    "\n",
    "linguas = pd.read_csv(\"bases/linguas.csv\")\n",
    "\n",
    "# Análise inicial\n",
    "print(\"Nº de registros:\", len(linguas))\n",
    "print(\"Nº de valores únicos de perfil_id:\", linguas.perfil_id.nunique())\n",
    "print(\"Nº de valores únicos de name:\", linguas.name.nunique())\n",
    "print(\"Nº de valores únicos de proficiency:\", linguas.proficiency.nunique())\n",
    "print(\"Valores faltantes em perfil_id:\", linguas.perfil_id.isnull().sum())\n",
    "print(\"Valores faltantes em name:\", linguas.name.isnull().sum())\n",
    "print(\"Valores faltantes em proficiency:\", linguas.proficiency.isnull().sum())\n",
    "\n",
    "print(\"\\nValores de name:\", linguas.name.unique())\n",
    "\n",
    "print(\"\\nValores de proficiency:\",linguas.proficiency.unique())"
   ]
  },
  {
   "cell_type": "markdown",
   "metadata": {},
   "source": [
    "Na base original há 21 categorias para a coluna **name**. Em uma análise visual, percebe-se que os nomes de uma mesma língua apresentavam variações. Além disso, os nomes estão com um prefixo \"Idioma\\n\" que pode ser retirado. Esse nomes foram tratados retirando o prefixo e fazendo substituição da variação pelo respectivo nome da língua em português. O resultado do tratamento é armazenado na nova coluna **nome**."
   ]
  },
  {
   "cell_type": "code",
   "execution_count": 2,
   "metadata": {},
   "outputs": [
    {
     "name": "stdout",
     "output_type": "stream",
     "text": [
      "Nº de valores únicos de name após tratamento: 11\n"
     ]
    }
   ],
   "source": [
    "# Copia a coluna name para preservar o dado original\n",
    "linguas['nome'] = linguas.name\n",
    "\n",
    "# Deduplica os nomes de linguas com variações para ficarem todos em Português\n",
    "linguas.nome = linguas.name.str.replace(\"Idioma\\n\", \"\") \\\n",
    "    .str.replace(\"Anglais\", \"Inglês\") \\\n",
    "    .str.replace(\"English\", \"Inglês\") \\\n",
    "    .str.replace(\"Français\", \"Francês\") \\\n",
    "    .str.replace(\".*Inglês.*\", \"Inglês\") \\\n",
    "    .str.replace(\"Italian.*\", \"Italiano\") \\\n",
    "    .str.replace(\"Portug.*\", \"Português\") \\\n",
    "    .str.replace(\"Spanish\", \"Espanhol\")\n",
    "\n",
    "# Análise das colunas categórias name e proficiency após tratamento\n",
    "print(\"Nº de valores únicos de name após tratamento:\", linguas.nome.nunique())"
   ]
  },
  {
   "cell_type": "markdown",
   "metadata": {},
   "source": [
    "A coluna **proficiency** apresenta 5 valores distintos, mas foi remapeada apenas para os valores Básico, Intermediário e Avançado, que é suficiente para a análise dos perfis. O resultado do seu tratamento é armazenado na nova coluna **nivel**."
   ]
  },
  {
   "cell_type": "code",
   "execution_count": 3,
   "metadata": {},
   "outputs": [
    {
     "name": "stdout",
     "output_type": "stream",
     "text": [
      "Nº de valores únicos de nivel após tratamento: 4\n",
      "Valores faltantes em nivel: 0\n"
     ]
    }
   ],
   "source": [
    "# Copia a coluna proficiency para preserva o dado original\n",
    "linguas['nivel'] = linguas.proficiency\n",
    "\n",
    "# Troca os valores não informados de proficiência por \"Não informado\"\n",
    "linguas.nivel.fillna(\"Não informado\", inplace=True)\n",
    "\n",
    "# Define que o nível de profiência da lingua \"Inglês - Intermediário - em curso\" é \"Nível intermediário\"\n",
    "linguas.loc[linguas.name == \"Inglês - Intermediário - em curso\", \"nivel\"] = \"Nível intermediário\"\n",
    "\n",
    "# Faz com que as proficiências sejam apenas básico | intermediário | avançado | não informado\n",
    "linguas.loc[linguas.nivel.str.contains(\"intermediário\", case=False), \"nivel\"] = \"Intermediário\"\n",
    "linguas.loc[linguas.nivel.str.contains(\"básico\", case=False), \"nivel\"] = \"Básico\"\n",
    "linguas.loc[linguas.nivel.str.contains(\"fluente\", case=False), \"nivel\"] = \"Avançado\"\n",
    "linguas.loc[linguas.nivel.str.contains(\"avançado\", case=False), \"nivel\"] = \"Avançado\"\n",
    "\n",
    "print(\"Nº de valores únicos de nivel após tratamento:\", linguas.nivel.nunique())\n",
    "print(\"Valores faltantes em nivel:\", linguas.nivel.isnull().sum())"
   ]
  },
  {
   "cell_type": "markdown",
   "metadata": {},
   "source": [
    "Algumas informações consolidadas por perfil podem ser extraídas dessa base. Será observado quantas linguas a pessoa fala (**qtd_linguas**), e também será criada uma informação booleana se a pessoa fala ou não português (**fala_portugues**), se a pessoa fala ou não inglês (**fala_ingles**), e se a pessoa fala ou não espanhol (**fala_espanhol**)."
   ]
  },
  {
   "cell_type": "code",
   "execution_count": 6,
   "metadata": {},
   "outputs": [
    {
     "data": {
      "text/html": [
       "<div>\n",
       "<style scoped>\n",
       "    .dataframe tbody tr th:only-of-type {\n",
       "        vertical-align: middle;\n",
       "    }\n",
       "\n",
       "    .dataframe tbody tr th {\n",
       "        vertical-align: top;\n",
       "    }\n",
       "\n",
       "    .dataframe thead th {\n",
       "        text-align: right;\n",
       "    }\n",
       "</style>\n",
       "<table border=\"1\" class=\"dataframe\">\n",
       "  <thead>\n",
       "    <tr style=\"text-align: right;\">\n",
       "      <th></th>\n",
       "      <th>name</th>\n",
       "      <th>proficiency</th>\n",
       "      <th>perfil_id</th>\n",
       "      <th>nome</th>\n",
       "      <th>nivel</th>\n",
       "      <th>fala_portugues</th>\n",
       "      <th>fala_ingles</th>\n",
       "      <th>fala_espanhol</th>\n",
       "    </tr>\n",
       "  </thead>\n",
       "  <tbody>\n",
       "    <tr>\n",
       "      <th>0</th>\n",
       "      <td>Idioma\\nEspanhol</td>\n",
       "      <td>Nível avançado</td>\n",
       "      <td>0</td>\n",
       "      <td>Espanhol</td>\n",
       "      <td>Avançado</td>\n",
       "      <td>False</td>\n",
       "      <td>False</td>\n",
       "      <td>True</td>\n",
       "    </tr>\n",
       "    <tr>\n",
       "      <th>1</th>\n",
       "      <td>Idioma\\nInglês</td>\n",
       "      <td>Fluente ou nativo</td>\n",
       "      <td>0</td>\n",
       "      <td>Inglês</td>\n",
       "      <td>Avançado</td>\n",
       "      <td>False</td>\n",
       "      <td>True</td>\n",
       "      <td>False</td>\n",
       "    </tr>\n",
       "    <tr>\n",
       "      <th>2</th>\n",
       "      <td>Idioma\\nPortuguês</td>\n",
       "      <td>Fluente ou nativo</td>\n",
       "      <td>0</td>\n",
       "      <td>Português</td>\n",
       "      <td>Avançado</td>\n",
       "      <td>True</td>\n",
       "      <td>False</td>\n",
       "      <td>False</td>\n",
       "    </tr>\n",
       "    <tr>\n",
       "      <th>3</th>\n",
       "      <td>Idioma\\nInglês</td>\n",
       "      <td>NaN</td>\n",
       "      <td>1</td>\n",
       "      <td>Inglês</td>\n",
       "      <td>Não informado</td>\n",
       "      <td>False</td>\n",
       "      <td>True</td>\n",
       "      <td>False</td>\n",
       "    </tr>\n",
       "    <tr>\n",
       "      <th>4</th>\n",
       "      <td>Idioma\\nItaliano</td>\n",
       "      <td>NaN</td>\n",
       "      <td>1</td>\n",
       "      <td>Italiano</td>\n",
       "      <td>Não informado</td>\n",
       "      <td>False</td>\n",
       "      <td>False</td>\n",
       "      <td>False</td>\n",
       "    </tr>\n",
       "  </tbody>\n",
       "</table>\n",
       "</div>"
      ],
      "text/plain": [
       "                name        proficiency  perfil_id       nome          nivel  \\\n",
       "0   Idioma\\nEspanhol     Nível avançado          0   Espanhol       Avançado   \n",
       "1     Idioma\\nInglês  Fluente ou nativo          0     Inglês       Avançado   \n",
       "2  Idioma\\nPortuguês  Fluente ou nativo          0  Português       Avançado   \n",
       "3     Idioma\\nInglês                NaN          1     Inglês  Não informado   \n",
       "4   Idioma\\nItaliano                NaN          1   Italiano  Não informado   \n",
       "\n",
       "   fala_portugues  fala_ingles  fala_espanhol  \n",
       "0           False        False           True  \n",
       "1           False         True          False  \n",
       "2            True        False          False  \n",
       "3           False         True          False  \n",
       "4           False        False          False  "
      ]
     },
     "execution_count": 6,
     "metadata": {},
     "output_type": "execute_result"
    }
   ],
   "source": [
    "# Consolida quantas linguas a pessoa fala\n",
    "qtd_linguas = linguas.groupby(\"perfil_id\").nome.count().to_frame()\n",
    "qtd_linguas = qtd_linguas.rename(index=int, columns={\"nome\":\"qtd_linguas\"})\n",
    "\n",
    "# Descobre se a pessoa fala ou não português\n",
    "linguas['fala_portugues'] = False\n",
    "linguas.loc[linguas.nome==\"Português\",'fala_portugues'] = True\n",
    "fala_portugues = linguas[['perfil_id','fala_portugues']]\n",
    "fala_portugues = fala_portugues.sort_values(by=\"fala_portugues\", ascending=False).drop_duplicates(subset=\"perfil_id\", keep=\"first\")\n",
    "fala_portugues = fala_portugues.sort_values(by=\"perfil_id\").set_index('perfil_id')\n",
    "\n",
    "# Descobre se a pessoa fala ou não inglês\n",
    "linguas['fala_ingles'] = False\n",
    "linguas.loc[linguas.nome==\"Inglês\",'fala_ingles'] = True\n",
    "fala_ingles = linguas[['perfil_id','fala_ingles']]\n",
    "fala_ingles = fala_ingles.sort_values(by=\"fala_ingles\", ascending=False).drop_duplicates(subset=\"perfil_id\", keep=\"first\")\n",
    "fala_ingles = fala_ingles.sort_values(by=\"perfil_id\").set_index('perfil_id')\n",
    "\n",
    "# Descobre se a pessoa fala ou não espanhol\n",
    "linguas['fala_espanhol'] = False\n",
    "linguas.loc[linguas.nome==\"Espanhol\",'fala_espanhol'] = True\n",
    "fala_espanhol = linguas[['perfil_id','fala_espanhol']]\n",
    "fala_espanhol = fala_espanhol.sort_values(by=\"fala_espanhol\", ascending=False).drop_duplicates(subset=\"perfil_id\", keep=\"first\")\n",
    "fala_espanhol = fala_espanhol.sort_values(by=\"perfil_id\").set_index('perfil_id')\n",
    "\n",
    "linguas.head()"
   ]
  },
  {
   "cell_type": "markdown",
   "metadata": {},
   "source": [
    "O resulto final do tratamento da base original será gravado na base **linguas-tratado.csv**.\n",
    "\n",
    "Uma outra base consolidada com um registro por funcionário será gravada, **perfil-linguas.csv**, contendo as colunas: **perfil_id**, **fala_portugues**, **fala_ingles**, **fala_espanhol**."
   ]
  },
  {
   "cell_type": "code",
   "execution_count": 7,
   "metadata": {},
   "outputs": [],
   "source": [
    "# Grava um csv tratado\n",
    "linguas_tratado = linguas[['perfil_id', 'nome', 'nivel']].copy().set_index('perfil_id')\n",
    "linguas_tratado.to_csv('bases/linguas-tratado.csv')\n",
    "\n",
    "# Grava o csv com as informações consolidadas de língua\n",
    "linguas_perfil = pd.concat([qtd_linguas, fala_portugues, fala_ingles, fala_espanhol],axis=1)\n",
    "linguas_perfil.to_csv('bases/perfil-linguas.csv')"
   ]
  },
  {
   "cell_type": "markdown",
   "metadata": {},
   "source": [
    "### Navegação:\n",
    "* [Voltar para a análise](00-analise-dos-dados.ipynb)\n",
    "* [Continuar para o próximo documento](03-tratamento-base-formacao.ipynb)"
   ]
  }
 ],
 "metadata": {
  "kernelspec": {
   "display_name": "Python 3",
   "language": "python",
   "name": "python3"
  },
  "language_info": {
   "codemirror_mode": {
    "name": "ipython",
    "version": 3
   },
   "file_extension": ".py",
   "mimetype": "text/x-python",
   "name": "python",
   "nbconvert_exporter": "python",
   "pygments_lexer": "ipython3",
   "version": "3.7.0"
  }
 },
 "nbformat": 4,
 "nbformat_minor": 2
}
